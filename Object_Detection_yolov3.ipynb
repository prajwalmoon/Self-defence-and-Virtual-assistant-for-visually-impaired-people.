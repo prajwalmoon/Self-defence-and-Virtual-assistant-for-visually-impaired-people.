{
  "nbformat": 4,
  "nbformat_minor": 0,
  "metadata": {
    "colab": {
      "name": "Object_Detection_yolov3.ipynb",
      "provenance": [],
      "authorship_tag": "ABX9TyPwGyrOsBucDYV/5kPyN12i",
      "include_colab_link": true
    },
    "kernelspec": {
      "name": "python3",
      "display_name": "Python 3"
    }
  },
  "cells": [
    {
      "cell_type": "markdown",
      "metadata": {
        "id": "view-in-github",
        "colab_type": "text"
      },
      "source": [
        "<a href=\"https://colab.research.google.com/github/PrithvirajChauhan1/Self-defence-and-Virtual-assistant-for-visually-impaired-people./blob/main/Object_Detection_yolov3.ipynb\" target=\"_parent\"><img src=\"https://colab.research.google.com/assets/colab-badge.svg\" alt=\"Open In Colab\"/></a>"
      ]
    },
    {
      "cell_type": "code",
      "metadata": {
        "id": "J_opIQyc8W8P"
      },
      "source": [
        "#importing the class object detection from the library imageAi\n",
        "from imageai.Detection import ObjectDetection\n",
        "\n",
        "#Creating a variable of ObjectDetection class\n",
        "detector = ObjectDetection()\n",
        "\n",
        "#for counting the number init the counter to one\n",
        "i=1\n",
        "\n",
        "#This is the Path for the the data set and the pre trained model YOLOv3\n",
        "model_path = r\"C:\\Users\\91952\\Downloads\\yolo-tiny.h5\"\n",
        "\n",
        "#Giving the input image's path\n",
        "input_path = r'C:\\Users\\91952\\OneDrive\\Desktop\\Project\\download.png'\n",
        "\n",
        "#The output will be the of this name\n",
        "output_path ='img-detected2.jpg'\n",
        "\n",
        "#This function is to load our model set Yolov3 we will be using in this code\n",
        "#Using the various function in the Class object detection\n",
        "detector.setModelTypeAsTinyYOLOv3()\n",
        "\n",
        "#Giving the path of the model to the fucntion \n",
        "detector.setModelPath(model_path)\n",
        "\n",
        "#It loads the model from the path specified above using the setModelPath()\n",
        "#class method.\n",
        "detector.loadModel()\n",
        "\n",
        "#For detction of the objects we have this function whose arguments are input image \n",
        "#and the path of the output image and return the processed image with that name\n",
        "detection = detector.detectObjectsFromImage(input_image=input_path, output_image_path=output_path)\n",
        "\n",
        "#The above fuction returns a dictionary called detection and using the keys \n",
        "# we can access the type and the pecentage probablity of the object with \n",
        "#specific count also\n",
        "for eachItem in detection:\n",
        "    print(eachItem[\"name\"] , i,\" : \", eachItem[\"percentage_probability\"])\n",
        "    i=i+1"
      ],
      "execution_count": null,
      "outputs": []
    }
  ]
}