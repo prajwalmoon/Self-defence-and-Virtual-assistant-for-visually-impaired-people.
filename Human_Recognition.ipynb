{
  "nbformat": 4,
  "nbformat_minor": 0,
  "metadata": {
    "colab": {
      "name": "Human_Recognition.ipynb",
      "provenance": [],
      "authorship_tag": "ABX9TyPH28qOQLqw0Y5S0qnnBLO7",
      "include_colab_link": true
    },
    "kernelspec": {
      "name": "python3",
      "display_name": "Python 3"
    }
  },
  "cells": [
    {
      "cell_type": "markdown",
      "metadata": {
        "id": "view-in-github",
        "colab_type": "text"
      },
      "source": [
        "<a href=\"https://colab.research.google.com/github/PrithvirajChauhan1/Self-defence-and-Virtual-assistant-for-visually-impaired-people./blob/main/Human_Recognition.ipynb\" target=\"_parent\"><img src=\"https://colab.research.google.com/assets/colab-badge.svg\" alt=\"Open In Colab\"/></a>"
      ]
    },
    {
      "cell_type": "code",
      "metadata": {
        "id": "fzQELXGhX94J"
      },
      "source": [
        "import cv2 \n",
        "import imutils "
      ],
      "execution_count": null,
      "outputs": []
    },
    {
      "cell_type": "code",
      "metadata": {
        "id": "bCf6wd79YDsx"
      },
      "source": [
        "\n",
        "   \n",
        "# Initializing the HOG person \n",
        "# detector \n",
        "hog = cv2.HOGDescriptor() \n",
        "hog.setSVMDetector(cv2.HOGDescriptor_getDefaultPeopleDetector()) \n",
        "   \n",
        "# Reading the Image \n",
        "image = cv2.imread('img.png') \n",
        "   \n",
        "# Resizing the Image \n",
        "image = imutils.resize(image, \n",
        "                       width=min(400, image.shape[1])) \n",
        "   \n",
        "# Detecting all the regions in the  \n",
        "# Image that has a pedestrians inside it \n",
        "(regions, _) = hog.detectMultiScale(image,  \n",
        "                                    winStride=(4, 4), \n",
        "                                    padding=(4, 4), \n",
        "                                    scale=1.05) \n",
        "   \n",
        "# Drawing the regions in the Image \n",
        "for (x, y, w, h) in regions: \n",
        "    cv2.rectangle(image, (x, y),  \n",
        "                  (x + w, y + h),  \n",
        "                  (0, 0, 255), 2) \n",
        "  \n",
        "# Showing the output Image \n",
        "cv2.imshow(\"Image\", image) \n",
        "cv2.waitKey(0) \n",
        "   \n",
        "cv2.destroyAllWindows() "
      ],
      "execution_count": null,
      "outputs": []
    }
  ]
}